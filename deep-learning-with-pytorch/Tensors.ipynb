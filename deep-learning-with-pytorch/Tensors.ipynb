{
 "cells": [
  {
   "cell_type": "markdown",
   "metadata": {},
   "source": [
    "# TENSORS\n",
    "* A torch tensor is a multi-dimensional matrix containing elements of a single datatype.\n",
    "* Similar to Numpy Arrays, but full of fun things that make them work better on GPUs (vs regular CPUs).\n",
    "* Default data type of float32.\n",
    "* More suitable for deep learning than a numpy array."
   ]
  },
  {
   "cell_type": "code",
   "execution_count": null,
   "metadata": {},
   "outputs": [],
   "source": [
    "import torch\n",
    "import numpy as np"
   ]
  },
  {
   "cell_type": "markdown",
   "metadata": {},
   "source": [
    "# LISTS"
   ]
  }
 ],
 "metadata": {
  "language_info": {
   "name": "python"
  }
 },
 "nbformat": 4,
 "nbformat_minor": 2
}
