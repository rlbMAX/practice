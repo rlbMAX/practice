{
 "cells": [
  {
   "cell_type": "code",
   "execution_count": 1,
   "metadata": {},
   "outputs": [],
   "source": [
    "import os\n",
    "import time\n",
    "import torch\n",
    "import torch.nn as nn\n",
    "import torch.nn.functional as F\n",
    "from torch.utils.data import DataLoader\n",
    "from torchvision import datasets, transforms\n",
    "from torchvision.utils import make_grid\n",
    "\n",
    "import numpy as np\n",
    "import pandas as pd\n",
    "from sklearn.metrics import confusion_matrix\n",
    "import matplotlib.pyplot as plt\n",
    "%matplotlib inline"
   ]
  },
  {
   "cell_type": "code",
   "execution_count": 2,
   "metadata": {},
   "outputs": [
    {
     "data": {
      "text/plain": [
       "'/home/rory/Dev/AIML/practice/deep-learning-with-pytorch'"
      ]
     },
     "execution_count": 2,
     "metadata": {},
     "output_type": "execute_result"
    }
   ],
   "source": [
    "# Set working directory equal to location of current notebook file\n",
    "os.getcwd()\n",
    "working_directory = os.path.dirname(os.path.abspath(__vsc_ipynb_file__))\n",
    "os.chdir(working_directory)\n",
    "os.getcwd()"
   ]
  },
  {
   "cell_type": "code",
   "execution_count": 3,
   "metadata": {},
   "outputs": [],
   "source": [
    "# Convert mnist image files into tensor of 4 dimensions (# of images, height, width, and color channel)\n",
    "transform = transforms.ToTensor()"
   ]
  },
  {
   "cell_type": "code",
   "execution_count": 4,
   "metadata": {},
   "outputs": [],
   "source": [
    "# Get train data\n",
    "train_data = datasets.MNIST(root=rf'./input/cnn_data', train=True, download=True, transform=transform)"
   ]
  },
  {
   "cell_type": "code",
   "execution_count": 5,
   "metadata": {},
   "outputs": [],
   "source": [
    "# Get test data\n",
    "test_data = datasets.MNIST(root=rf'./input/cnn_data', train=False, download=True, transform=transform)"
   ]
  },
  {
   "cell_type": "code",
   "execution_count": 6,
   "metadata": {},
   "outputs": [
    {
     "data": {
      "text/plain": [
       "Dataset MNIST\n",
       "    Number of datapoints: 60000\n",
       "    Root location: ./input/cnn_data\n",
       "    Split: Train\n",
       "    StandardTransform\n",
       "Transform: ToTensor()"
      ]
     },
     "execution_count": 6,
     "metadata": {},
     "output_type": "execute_result"
    }
   ],
   "source": [
    "train_data"
   ]
  },
  {
   "cell_type": "code",
   "execution_count": 7,
   "metadata": {},
   "outputs": [
    {
     "data": {
      "text/plain": [
       "Dataset MNIST\n",
       "    Number of datapoints: 10000\n",
       "    Root location: ./input/cnn_data\n",
       "    Split: Test\n",
       "    StandardTransform\n",
       "Transform: ToTensor()"
      ]
     },
     "execution_count": 7,
     "metadata": {},
     "output_type": "execute_result"
    }
   ],
   "source": [
    "test_data"
   ]
  },
  {
   "cell_type": "code",
   "execution_count": 8,
   "metadata": {},
   "outputs": [],
   "source": [
    "# Create a small batch size for images ... let's say 10\n",
    "train_loader = DataLoader(train_data, batch_size=10, shuffle=True)\n",
    "test_loader = DataLoader(train_data, batch_size=10, shuffle=False)"
   ]
  },
  {
   "cell_type": "code",
   "execution_count": 9,
   "metadata": {},
   "outputs": [],
   "source": [
    "# Define our CNN Model\n",
    "# Describe convolutional layer and what it's doing (2 conv layers)\n",
    "# This is just an example\n",
    "conv1 = nn.Conv2d(1, 6, 3, 1)\n",
    "conv2 = nn.Conv2d(6, 16, 3, 1)"
   ]
  },
  {
   "cell_type": "code",
   "execution_count": 10,
   "metadata": {},
   "outputs": [],
   "source": [
    "# Grab 1 MNIST record/image\n",
    "for i, (X_train, y_train) in enumerate(train_data):\n",
    "    break"
   ]
  },
  {
   "cell_type": "code",
   "execution_count": 11,
   "metadata": {},
   "outputs": [
    {
     "data": {
      "text/plain": [
       "torch.Size([1, 28, 28])"
      ]
     },
     "execution_count": 11,
     "metadata": {},
     "output_type": "execute_result"
    }
   ],
   "source": [
    "X_train.shape"
   ]
  },
  {
   "cell_type": "code",
   "execution_count": 12,
   "metadata": {},
   "outputs": [],
   "source": [
    "x = X_train.view(1,1,28,28)"
   ]
  },
  {
   "cell_type": "code",
   "execution_count": 13,
   "metadata": {},
   "outputs": [],
   "source": [
    "# Perform our first convolution\n",
    "x = F.relu(conv1(x)) # Rectified linear unit for our activation function"
   ]
  },
  {
   "cell_type": "code",
   "execution_count": 14,
   "metadata": {},
   "outputs": [
    {
     "data": {
      "text/plain": [
       "tensor([[[[0.0000, 0.0000, 0.0000,  ..., 0.0000, 0.0000, 0.0000],\n",
       "          [0.0000, 0.0000, 0.0000,  ..., 0.0000, 0.0000, 0.0000],\n",
       "          [0.0000, 0.0000, 0.0000,  ..., 0.0000, 0.0000, 0.0000],\n",
       "          ...,\n",
       "          [0.0000, 0.0000, 0.0000,  ..., 0.0000, 0.0000, 0.0000],\n",
       "          [0.0000, 0.0000, 0.0000,  ..., 0.0000, 0.0000, 0.0000],\n",
       "          [0.0000, 0.0000, 0.0000,  ..., 0.0000, 0.0000, 0.0000]],\n",
       "\n",
       "         [[0.0014, 0.0014, 0.0014,  ..., 0.0014, 0.0014, 0.0014],\n",
       "          [0.0014, 0.0014, 0.0014,  ..., 0.0014, 0.0014, 0.0014],\n",
       "          [0.0014, 0.0014, 0.0014,  ..., 0.0014, 0.0014, 0.0014],\n",
       "          ...,\n",
       "          [0.0014, 0.0014, 0.0767,  ..., 0.0014, 0.0014, 0.0014],\n",
       "          [0.0014, 0.0014, 0.0000,  ..., 0.0014, 0.0014, 0.0014],\n",
       "          [0.0014, 0.0014, 0.0014,  ..., 0.0014, 0.0014, 0.0014]],\n",
       "\n",
       "         [[0.0000, 0.0000, 0.0000,  ..., 0.0000, 0.0000, 0.0000],\n",
       "          [0.0000, 0.0000, 0.0000,  ..., 0.0000, 0.0000, 0.0000],\n",
       "          [0.0000, 0.0000, 0.0000,  ..., 0.0000, 0.0000, 0.0000],\n",
       "          ...,\n",
       "          [0.0000, 0.0000, 0.0000,  ..., 0.0000, 0.0000, 0.0000],\n",
       "          [0.0000, 0.0000, 0.0000,  ..., 0.0000, 0.0000, 0.0000],\n",
       "          [0.0000, 0.0000, 0.0000,  ..., 0.0000, 0.0000, 0.0000]],\n",
       "\n",
       "         [[0.0000, 0.0000, 0.0000,  ..., 0.0000, 0.0000, 0.0000],\n",
       "          [0.0000, 0.0000, 0.0000,  ..., 0.0000, 0.0000, 0.0000],\n",
       "          [0.0000, 0.0000, 0.0000,  ..., 0.0000, 0.0000, 0.0000],\n",
       "          ...,\n",
       "          [0.0000, 0.0000, 0.0000,  ..., 0.0000, 0.0000, 0.0000],\n",
       "          [0.0000, 0.0000, 0.0000,  ..., 0.0000, 0.0000, 0.0000],\n",
       "          [0.0000, 0.0000, 0.0000,  ..., 0.0000, 0.0000, 0.0000]],\n",
       "\n",
       "         [[0.2760, 0.2760, 0.2760,  ..., 0.2760, 0.2760, 0.2760],\n",
       "          [0.2760, 0.2760, 0.2760,  ..., 0.2760, 0.2760, 0.2760],\n",
       "          [0.2760, 0.2760, 0.2760,  ..., 0.2760, 0.2760, 0.2760],\n",
       "          ...,\n",
       "          [0.2760, 0.2760, 0.2102,  ..., 0.2760, 0.2760, 0.2760],\n",
       "          [0.2760, 0.2760, 0.1768,  ..., 0.2760, 0.2760, 0.2760],\n",
       "          [0.2760, 0.2760, 0.2760,  ..., 0.2760, 0.2760, 0.2760]],\n",
       "\n",
       "         [[0.0000, 0.0000, 0.0000,  ..., 0.0000, 0.0000, 0.0000],\n",
       "          [0.0000, 0.0000, 0.0000,  ..., 0.0000, 0.0000, 0.0000],\n",
       "          [0.0000, 0.0000, 0.0000,  ..., 0.0000, 0.0000, 0.0000],\n",
       "          ...,\n",
       "          [0.0000, 0.0000, 0.0000,  ..., 0.0000, 0.0000, 0.0000],\n",
       "          [0.0000, 0.0000, 0.0000,  ..., 0.0000, 0.0000, 0.0000],\n",
       "          [0.0000, 0.0000, 0.0000,  ..., 0.0000, 0.0000, 0.0000]]]],\n",
       "       grad_fn=<ReluBackward0>)"
      ]
     },
     "execution_count": 14,
     "metadata": {},
     "output_type": "execute_result"
    }
   ],
   "source": [
    "x"
   ]
  },
  {
   "cell_type": "code",
   "execution_count": 15,
   "metadata": {},
   "outputs": [
    {
     "data": {
      "text/plain": [
       "torch.Size([1, 6, 26, 26])"
      ]
     },
     "execution_count": 15,
     "metadata": {},
     "output_type": "execute_result"
    }
   ],
   "source": [
    "# 1 single image, 6 is the filters we asked for, 26x26 is now the image because padding wasn't used and 2 were dropped around the edges\n",
    "x.shape"
   ]
  },
  {
   "cell_type": "code",
   "execution_count": 16,
   "metadata": {},
   "outputs": [],
   "source": [
    "# Pass through the pooling layer\n",
    "x = F.max_pool2d(x,2,2) # Kernel of 2 and stride of 2"
   ]
  },
  {
   "cell_type": "code",
   "execution_count": 17,
   "metadata": {},
   "outputs": [
    {
     "data": {
      "text/plain": [
       "torch.Size([1, 6, 13, 13])"
      ]
     },
     "execution_count": 17,
     "metadata": {},
     "output_type": "execute_result"
    }
   ],
   "source": [
    "x.shape # 25 / 2 = 13"
   ]
  },
  {
   "cell_type": "code",
   "execution_count": 18,
   "metadata": {},
   "outputs": [],
   "source": [
    "# Do our second convolutional layer\n",
    "x = F.relu(conv2(x))"
   ]
  },
  {
   "cell_type": "code",
   "execution_count": 19,
   "metadata": {},
   "outputs": [
    {
     "data": {
      "text/plain": [
       "torch.Size([1, 16, 11, 11])"
      ]
     },
     "execution_count": 19,
     "metadata": {},
     "output_type": "execute_result"
    }
   ],
   "source": [
    "x.shape # Again, we didn't set padding and we lose 2 pixels around the outside"
   ]
  },
  {
   "cell_type": "code",
   "execution_count": 20,
   "metadata": {},
   "outputs": [],
   "source": [
    "# Pooling layer\n",
    "x = F.max_pool2d(x,2,2)"
   ]
  },
  {
   "cell_type": "code",
   "execution_count": 21,
   "metadata": {},
   "outputs": [
    {
     "data": {
      "text/plain": [
       "torch.Size([1, 16, 5, 5])"
      ]
     },
     "execution_count": 21,
     "metadata": {},
     "output_type": "execute_result"
    }
   ],
   "source": [
    "x.shape # 11 / 2 = 5.5 but we have to round down, because we can't invent data to round up"
   ]
  },
  {
   "cell_type": "code",
   "execution_count": 22,
   "metadata": {},
   "outputs": [
    {
     "data": {
      "text/plain": [
       "5.5"
      ]
     },
     "execution_count": 22,
     "metadata": {},
     "output_type": "execute_result"
    }
   ],
   "source": [
    "((28-2) / 2 - 2) / 2"
   ]
  },
  {
   "cell_type": "code",
   "execution_count": 23,
   "metadata": {},
   "outputs": [],
   "source": [
    "# Model class\n",
    "class ConvolutionalNetwork(nn.Module):\n",
    "    def __init__(self):\n",
    "        super().__init__()\n",
    "        # Convolutional layers\n",
    "        self.conv1 = nn.Conv2d(in_channels=1, out_channels=6, kernel_size=3, stride=1)\n",
    "        self.conv2 = nn.Conv2d(in_channels=6, out_channels=16, kernel_size=3, stride=1)\n",
    "        # Fully connected layers\n",
    "        self.fc1 = nn.Linear(5*5*16, 120)\n",
    "        self.fc2 = nn.Linear(120, 84)\n",
    "        self.fc3 = nn.Linear(84, 10)\n",
    "\n",
    "    def forward(self, X):\n",
    "        # First Pass\n",
    "        X = F.relu(self.conv1(X))\n",
    "        X = F.max_pool2d(X, 2, 2) # 2x2 kernel with stride of 2\n",
    "        # Second Pass\n",
    "        X = F.relu(self.conv2(X))\n",
    "        X = F.max_pool2d(X, 2, 2) # 2x2 kernel with stride of 2\n",
    "\n",
    "        #Re-View to flatten it out\n",
    "        X = X.view(-1, 16*5*5) # Negative one so that we can vary the batch size\n",
    "\n",
    "        # Fully Connected Layers\n",
    "        X = F.relu(self.fc1(X))\n",
    "        X = F.relu(self.fc2(X))\n",
    "        X = self.fc3(X)\n",
    "        return F.log_softmax(X, dim=1)"
   ]
  },
  {
   "cell_type": "code",
   "execution_count": 24,
   "metadata": {},
   "outputs": [
    {
     "data": {
      "text/plain": [
       "ConvolutionalNetwork(\n",
       "  (conv1): Conv2d(1, 6, kernel_size=(3, 3), stride=(1, 1))\n",
       "  (conv2): Conv2d(6, 16, kernel_size=(3, 3), stride=(1, 1))\n",
       "  (fc1): Linear(in_features=400, out_features=120, bias=True)\n",
       "  (fc2): Linear(in_features=120, out_features=84, bias=True)\n",
       "  (fc3): Linear(in_features=84, out_features=10, bias=True)\n",
       ")"
      ]
     },
     "execution_count": 24,
     "metadata": {},
     "output_type": "execute_result"
    }
   ],
   "source": [
    "# Create an Instance of our Model\n",
    "torch.manual_seed(41)\n",
    "model = ConvolutionalNetwork()\n",
    "model"
   ]
  },
  {
   "cell_type": "code",
   "execution_count": 25,
   "metadata": {},
   "outputs": [],
   "source": [
    "# Loss function optimizer\n",
    "criterion = nn.CrossEntropyLoss()\n",
    "optimizer = torch.optim.Adam(model.parameters(), lr=0.001) # Smaller the learning rate, the longer it will take to train... Too big can cause instability"
   ]
  },
  {
   "cell_type": "code",
   "execution_count": 26,
   "metadata": {},
   "outputs": [
    {
     "name": "stdout",
     "output_type": "stream",
     "text": [
      "Epoch: 0  Batch: 600  Loss: 0.16236244142055511\n",
      "Epoch: 0  Batch: 1200  Loss: 0.16302061080932617\n",
      "Epoch: 0  Batch: 1800  Loss: 0.5362371802330017\n",
      "Epoch: 0  Batch: 2400  Loss: 0.181561678647995\n",
      "Epoch: 0  Batch: 3000  Loss: 0.006205611862242222\n",
      "Epoch: 0  Batch: 3600  Loss: 0.33742740750312805\n",
      "Epoch: 0  Batch: 4200  Loss: 0.005262851249426603\n",
      "Epoch: 0  Batch: 4800  Loss: 0.0016028400277718902\n",
      "Epoch: 0  Batch: 5400  Loss: 0.04928583651781082\n",
      "Epoch: 0  Batch: 6000  Loss: 0.00033870976767502725\n",
      "Epoch: 1  Batch: 600  Loss: 0.0019276011735200882\n",
      "Epoch: 1  Batch: 1200  Loss: 0.3193497657775879\n",
      "Epoch: 1  Batch: 1800  Loss: 0.003310810774564743\n",
      "Epoch: 1  Batch: 2400  Loss: 0.004682301077991724\n",
      "Epoch: 1  Batch: 3000  Loss: 0.016263607889413834\n",
      "Epoch: 1  Batch: 3600  Loss: 0.42812198400497437\n",
      "Epoch: 1  Batch: 4200  Loss: 0.018768612295389175\n",
      "Epoch: 1  Batch: 4800  Loss: 0.0009659092756919563\n",
      "Epoch: 1  Batch: 5400  Loss: 0.00017001254309434444\n",
      "Epoch: 1  Batch: 6000  Loss: 0.09918522834777832\n",
      "Epoch: 2  Batch: 600  Loss: 0.032732635736465454\n",
      "Epoch: 2  Batch: 1200  Loss: 0.004462022799998522\n",
      "Epoch: 2  Batch: 1800  Loss: 0.0023311309050768614\n",
      "Epoch: 2  Batch: 2400  Loss: 0.008106115274131298\n",
      "Epoch: 2  Batch: 3000  Loss: 0.004241050221025944\n",
      "Epoch: 2  Batch: 3600  Loss: 0.00048277940368279815\n",
      "Epoch: 2  Batch: 4200  Loss: 0.012566392309963703\n",
      "Epoch: 2  Batch: 4800  Loss: 0.0009580898331478238\n",
      "Epoch: 2  Batch: 5400  Loss: 0.12257377058267593\n",
      "Epoch: 2  Batch: 6000  Loss: 0.07784433662891388\n",
      "Epoch: 3  Batch: 600  Loss: 0.013729127123951912\n",
      "Epoch: 3  Batch: 1200  Loss: 0.009838449768722057\n",
      "Epoch: 3  Batch: 1800  Loss: 0.001667607226409018\n",
      "Epoch: 3  Batch: 2400  Loss: 3.833625669358298e-05\n",
      "Epoch: 3  Batch: 3000  Loss: 0.0006125528016127646\n",
      "Epoch: 3  Batch: 3600  Loss: 0.0004876418097410351\n",
      "Epoch: 3  Batch: 4200  Loss: 0.0065511479042470455\n",
      "Epoch: 3  Batch: 4800  Loss: 6.821550050517544e-05\n",
      "Epoch: 3  Batch: 5400  Loss: 0.16760972142219543\n",
      "Epoch: 3  Batch: 6000  Loss: 0.02574334666132927\n",
      "Epoch: 4  Batch: 600  Loss: 0.007315407507121563\n",
      "Epoch: 4  Batch: 1200  Loss: 0.018900174647569656\n",
      "Epoch: 4  Batch: 1800  Loss: 0.04457757622003555\n",
      "Epoch: 4  Batch: 2400  Loss: 0.0036182808689773083\n",
      "Epoch: 4  Batch: 3000  Loss: 0.0009500622982159257\n",
      "Epoch: 4  Batch: 3600  Loss: 0.0009844276355579495\n",
      "Epoch: 4  Batch: 4200  Loss: 0.00035400266642682254\n",
      "Epoch: 4  Batch: 4800  Loss: 0.0009283620747737586\n",
      "Epoch: 4  Batch: 5400  Loss: 0.06714706122875214\n",
      "Epoch: 4  Batch: 6000  Loss: 0.0011628251522779465\n",
      "Training took: 1.4802448511123658 minutes!\n"
     ]
    }
   ],
   "source": [
    "start_time = time.time()\n",
    "\n",
    "# Create variables to track things\n",
    "epochs = 5\n",
    "train_losses = []\n",
    "test_losses = []\n",
    "train_correct = []\n",
    "test_correct = []\n",
    "\n",
    "# Create a for loop of epochs\n",
    "for i in range(epochs):\n",
    "    train_cor = 0\n",
    "    test_cor = 0\n",
    "    # Train\n",
    "    for batch, (X_train, y_train) in enumerate(train_loader):\n",
    "        batch += 1 # Start our batches at 1\n",
    "        y_pred = model(X_train) # Get predicted values from the training set. Not flattened... it is 2-D\n",
    "        loss = criterion(y_pred, y_train) # How off are we? Compare predicted values to actual values\n",
    "\n",
    "        predicted = torch.max(y_pred.data, 1)[1] # Add up the number of correct prdictions and index off of the first point\n",
    "        batch_cor = (predicted == y_train).sum() # Sum however many predictions we got correct\n",
    "        train_cor += batch_cor # Keep track as we go along in training\n",
    "\n",
    "        # Update our parameters\n",
    "        optimizer.zero_grad()\n",
    "        loss.backward()\n",
    "        optimizer.step()\n",
    "\n",
    "        # Print out some results\n",
    "        if batch%600 == 0:\n",
    "            print(f'Epoch: {i}  Batch: {batch}  Loss: {loss.item()}')\n",
    "        \n",
    "    train_losses.append(loss)\n",
    "    train_correct.append(train_cor)\n",
    "\n",
    "    # Test\n",
    "    with torch.no_grad(): # No gradient so that we don't update our weights and biases with our test data\n",
    "        for batch, (X_test, y_test) in enumerate(test_loader):\n",
    "            y_val = model(X_test)\n",
    "            predicted = torch.max(y_val.data, 1)[1] # Adding up correct predictions\n",
    "            test_cor = (predicted == y_test).sum() # Sum however many predictions we got correct\n",
    "    loss = criterion(y_val, y_test)\n",
    "    test_losses.append(loss)\n",
    "    test_correct.append(test_cor)\n",
    "\n",
    "current_time = time.time()\n",
    "total = current_time - start_time\n",
    "print(f'Training took: {total/60} minutes!')"
   ]
  }
 ],
 "metadata": {
  "kernelspec": {
   "display_name": "Python 3 (ipykernel)",
   "language": "python",
   "name": "python3"
  },
  "language_info": {
   "codemirror_mode": {
    "name": "ipython",
    "version": 3
   },
   "file_extension": ".py",
   "mimetype": "text/x-python",
   "name": "python",
   "nbconvert_exporter": "python",
   "pygments_lexer": "ipython3",
   "version": "3.11.10"
  }
 },
 "nbformat": 4,
 "nbformat_minor": 2
}
